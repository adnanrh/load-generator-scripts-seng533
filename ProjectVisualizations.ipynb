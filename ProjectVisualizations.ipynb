{
 "cells": [
  {
   "cell_type": "code",
   "execution_count": null,
   "metadata": {},
   "outputs": [],
   "source": [
    "%matplotlib inline\n",
    "\n",
    "import glob\n",
    "import os\n",
    "\n",
    "import matplotlib\n",
    "import matplotlib.pyplot as plt\n",
    "import numpy as np\n",
    "import pandas as pd"
   ]
  },
  {
   "cell_type": "code",
   "execution_count": null,
   "metadata": {},
   "outputs": [],
   "source": [
    "TEST_CASES_PATH = \"results_remote_lb\"\n",
    "\n",
    "TEST_CASES_DICT = {\n",
    "    'Baseline': '2019_04_04_161815',\n",
    "    'Default Scaling': '2019_04_04_203319',\n",
    "    'Low Threshold Scaling': '2019_04_04_233925',\n",
    "    'Aggressive Scaling': '2019_04_05_145551'\n",
    "}\n",
    "\n",
    "FILE_TYPE_AWS_METRICS = 'aws_metrics_{0}_*.csv'\n",
    "FILE_TYPE_USER_RESPONSE = 'users{1}_response_{0}.csv'\n",
    "\n",
    "SAMPLE_PERIOD_SECONDS = 30\n",
    "\n",
    "def read_file(test_case_name, file_type, *args):\n",
    "    file_name = file_type.format(*args)\n",
    "    file_search_path = os.path.join(TEST_CASES_PATH, TEST_CASES_DICT[test_case_name], file_name)\n",
    "    file_paths = glob.glob(file_search_path)\n",
    "    return pd.read_csv(file_paths[0])\n",
    "\n",
    "def get_aws_metrics_for_test_case(test_case_name):\n",
    "    aws_metrics_list = [read_file(test_case_name, FILE_TYPE_AWS_METRICS, i) for i in range(3)]\n",
    "    aws_metrics_list_pivoted = [aws_metrics.pivot_table('cpu0_util', ['timepoint'], 'instance_id')\n",
    "                                for aws_metrics in aws_metrics_list]\n",
    "    return aws_metrics_list_pivoted\n",
    "\n",
    "def plot_cpu0_util_for_test_case(test_case_name, case_num='all'):\n",
    "    plt.figure(figsize=(20,10))\n",
    "    plt.xlabel('Minutes')\n",
    "    plt.ylabel('CPU Utilization')\n",
    "\n",
    "    aws_metrics_list_pivoted = get_aws_metrics_for_test_case(test_case_name)\n",
    "    if case_num == 'all':\n",
    "        for i in range(3):\n",
    "            aws_metrics = aws_metrics_list_pivoted[i]\n",
    "            x = np.arange(0, len(aws_metrics) * SAMPLE_PERIOD_SECONDS / 60, SAMPLE_PERIOD_SECONDS / 60)\n",
    "            plt.plot(x, aws_metrics)\n",
    "    else:\n",
    "        aws_metrics = aws_metrics_list_pivoted[case_num]\n",
    "        x = np.arange(0, len(aws_metrics) * SAMPLE_PERIOD_SECONDS / 60, SAMPLE_PERIOD_SECONDS / 60)\n",
    "        plt.plot(x, aws_metrics)\n"
   ]
  },
  {
   "cell_type": "code",
   "execution_count": null,
   "metadata": {},
   "outputs": [],
   "source": [
    "plot_cpu0_util_for_test_case('Baseline')"
   ]
  },
  {
   "cell_type": "code",
   "execution_count": null,
   "metadata": {},
   "outputs": [],
   "source": [
    "plot_cpu0_util_for_test_case('Default Scaling', 0)"
   ]
  },
  {
   "cell_type": "code",
   "execution_count": null,
   "metadata": {},
   "outputs": [],
   "source": [
    "plot_cpu0_util_for_test_case('Low Threshold Scaling', 0)"
   ]
  },
  {
   "cell_type": "code",
   "execution_count": null,
   "metadata": {},
   "outputs": [],
   "source": [
    "plot_cpu0_util_for_test_case('Aggressive Scaling', 0)"
   ]
  },
  {
   "cell_type": "code",
   "execution_count": null,
   "metadata": {},
   "outputs": [],
   "source": [
    "usersA_response_0 = read_file('Baseline', FILE_TYPE_USER_RESPONSE, 0, 'A')\n",
    "usersA_response_0.plot.scatter(x='timeStamp',y='elapsed',figsize=(20,10))"
   ]
  },
  {
   "cell_type": "code",
   "execution_count": null,
   "metadata": {},
   "outputs": [],
   "source": [
    "usersA_response_0 = read_file('Baseline', FILE_TYPE_USER_RESPONSE, 0, 'A')\n",
    "bins = np.linspace(usersA_response_0.loc[:,'timeStamp'].min(), usersA_response_0.loc[:,'timeStamp'].max(), num=50)\n",
    "usersA_response_0['binnedTimeStamp'] = pd.cut(usersA_response_0['timeStamp'], bins)\n",
    "\n",
    "binned_df = usersA_response_0.groupby('binnedTimeStamp').mean()\n",
    "binned_df.plot(y='elapsed',figsize=(20,10))"
   ]
  },
  {
   "cell_type": "code",
   "execution_count": null,
   "metadata": {},
   "outputs": [],
   "source": [
    "usersA_response_0 = read_file('Default Scaling', FILE_TYPE_USER_RESPONSE, 1, 'A')\n",
    "usersA_response_0.plot.scatter(x='timeStamp',y='elapsed',figsize=(20,10))"
   ]
  },
  {
   "cell_type": "code",
   "execution_count": null,
   "metadata": {},
   "outputs": [],
   "source": [
    "usersA_response_0 = read_file('Low Threshold Scaling', FILE_TYPE_USER_RESPONSE, 0, 'A')\n",
    "usersA_response_0.plot.scatter(x='timeStamp',y='elapsed',figsize=(20,10))"
   ]
  },
  {
   "cell_type": "code",
   "execution_count": null,
   "metadata": {},
   "outputs": [],
   "source": [
    "usersA_response_0 = read_file('Aggressive Scaling', FILE_TYPE_USER_RESPONSE, 1, 'A')\n",
    "usersA_response_0.plot.scatter(x='timeStamp',y='elapsed',figsize=(20,10))"
   ]
  },
  {
   "cell_type": "code",
   "execution_count": null,
   "metadata": {},
   "outputs": [],
   "source": [
    "aws_metrics_0_pivoted = aws_metrics_0.pivot_table('cpu0_util', ['timepoint'], 'instance_id')\n",
    "aws_metrics_0_pivoted.plot.line(figsize=(20,10))"
   ]
  },
  {
   "cell_type": "code",
   "execution_count": null,
   "metadata": {},
   "outputs": [],
   "source": [
    "aws_metrics_2 = pd.read_csv(\"load-generator-scripts-seng533/results_remote_lb/2019_03_22_155110/aws_metrics_2_1553272628_1553273833_1_20_50_1200_5_24_60_12.csv\",\n",
    "                            index_col=False)\n",
    "aws_metrics_2_pivoted = aws_metrics_2.pivot_table('cpu0_util', ['timepoint'], 'instance_id')\n",
    "aws_metrics_2_pivoted.plot.line(figsize=(20,10))"
   ]
  },
  {
   "cell_type": "code",
   "execution_count": null,
   "metadata": {},
   "outputs": [],
   "source": [
    "aws_metrics_2_pivoted = aws_metrics_2.pivot_table('disk_util', ['timepoint'], 'instance_id')\n",
    "aws_metrics_2_pivoted.plot.line(figsize=(20,10))"
   ]
  },
  {
   "cell_type": "code",
   "execution_count": null,
   "metadata": {},
   "outputs": [],
   "source": []
  }
 ],
 "metadata": {
  "kernelspec": {
   "display_name": "Python 3",
   "language": "python",
   "name": "python3"
  },
  "language_info": {
   "codemirror_mode": {
    "name": "ipython",
    "version": 3
   },
   "file_extension": ".py",
   "mimetype": "text/x-python",
   "name": "python",
   "nbconvert_exporter": "python",
   "pygments_lexer": "ipython3",
   "version": "3.6.7"
  }
 },
 "nbformat": 4,
 "nbformat_minor": 2
}
