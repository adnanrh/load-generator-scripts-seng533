{
 "cells": [
  {
   "cell_type": "code",
   "execution_count": 42,
   "metadata": {},
   "outputs": [],
   "source": [
    "%matplotlib inline\n",
    "\n",
    "import glob\n",
    "import os\n",
    "\n",
    "import matplotlib\n",
    "import matplotlib.pyplot as plt\n",
    "import numpy as np\n",
    "import pandas as pd\n",
    "from scipy import stats"
   ]
  },
  {
   "cell_type": "code",
   "execution_count": 73,
   "metadata": {},
   "outputs": [],
   "source": [
    "TEST_CASES_PATH = \"results_remote_lb\"\n",
    "\n",
    "TEST_CASES_DICT = {\n",
    "    'Baseline': '2019_04_04_161815',\n",
    "    'Default Scaling': '2019_04_04_203319',\n",
    "    'Low Threshold Scaling': '2019_04_04_233925',\n",
    "    'Aggressive Scaling': '2019_04_05_145551'\n",
    "}\n",
    "\n",
    "FILE_TYPE_AWS_METRICS = 'aws_metrics_{0}_*.csv'\n",
    "FILE_TYPE_USER_RESPONSE = 'users{1}_response_{0}.csv'\n",
    "\n",
    "SAMPLE_PERIOD_SECONDS = 30\n",
    "\n",
    "def read_file(test_case_name, file_type, *args):\n",
    "    file_name = file_type.format(*args)\n",
    "    file_search_path = os.path.join(TEST_CASES_PATH, TEST_CASES_DICT[test_case_name], file_name)\n",
    "    file_paths = glob.glob(file_search_path)\n",
    "    \n",
    "    # Get test file with test params if not searching aws metrics\n",
    "    if file_type != FILE_TYPE_AWS_METRICS:\n",
    "        s_file_name = FILE_TYPE_AWS_METRICS.format(args[0])\n",
    "        s_file_search_path = os.path.join(TEST_CASES_PATH, TEST_CASES_DICT[test_case_name], s_file_name)\n",
    "        s_file_paths = glob.glob(s_file_search_path)\n",
    "        info_file = s_file_paths[0]\n",
    "    else:\n",
    "        info_file = file_paths[0]\n",
    "        \n",
    "    params_list = os.path.basename(info_file)[12:].split('_')\n",
    "    \n",
    "    params_dict = {\n",
    "        'start_time_seconds': int(params_list[1]),\n",
    "        'end_time_seconds': int(params_list[2])\n",
    "    }\n",
    "\n",
    "    return pd.read_csv(file_paths[0]), params_dict\n",
    "\n",
    "def get_user_responses_for_test_case(test_case_name, user='A'):\n",
    "    user_responses_list = []\n",
    "    for i in range(3):\n",
    "        df, params_dict = read_file(test_case_name, FILE_TYPE_USER_RESPONSE, i, user)\n",
    "        df.loc[:,'timepoint'] = (df.loc[:,'timeStamp'] / 1000) - params_dict['start_time_seconds']\n",
    "        user_responses_list.append(df)\n",
    "    return user_responses_list\n",
    "\n",
    "# using this method instead of np.std because np.std divides sum of squares by n (biased sample variance), not n-1\n",
    "def get_standard_deviation(mean, values):\n",
    "    n = len(values)\n",
    "    s = 0\n",
    "    for i in range(n):\n",
    "        s += (values[i] - mean) ** 2\n",
    "    \n",
    "    return np.sqrt(s / (n-1))\n",
    "\n",
    "def get_CI_for_response_time_difference_for_user(system_1, system_2, user):\n",
    "    n = 3\n",
    "    user_responses_list_system_1 = get_user_responses_for_test_case(system_1, user)\n",
    "    user_responses_list_system_2 = get_user_responses_for_test_case(system_2, user)\n",
    "    differences = []\n",
    "    \n",
    "    for i in range(n):\n",
    "        mean_system_1 = np.mean(user_responses_list_system_1[i]['elapsed']) / 1000\n",
    "        mean_system_2 = np.mean(user_responses_list_system_2[i]['elapsed']) / 1000\n",
    "        differences.append(mean_system_1 - mean_system_2)\n",
    "        \n",
    "    sample_mean = np.mean(differences)\n",
    "    sample_std = get_standard_deviation(sample_mean, differences)\n",
    "    # alpha = 0.05, we want t statistic at .975, 2\n",
    "    t = stats.t.ppf(.975, n-1)\n",
    "    interval_half_size = t * sample_std / np.sqrt(n)\n",
    "    confidence_interval = [sample_mean - interval_half_size, sample_mean + interval_half_size]\n",
    "    \n",
    "    print('''The 95% confidence interval for the difference in mean response times between {0} and {1} for user class {2} is ({3}, {4})'''.format(system_1, system_2, user, confidence_interval[0], confidence_interval[1]))\n",
    "    print()\n",
    "    \n",
    "def get_CI_for_response_time_difference(system_1, system_2):\n",
    "    get_CI_for_response_time_difference_for_user(system_1, system_2, 'A')\n",
    "    get_CI_for_response_time_difference_for_user(system_1, system_2, 'B')\n",
    "    get_CI_for_response_time_difference_for_user(system_1, system_2, 'C')"
   ]
  },
  {
   "cell_type": "code",
   "execution_count": 74,
   "metadata": {
    "scrolled": false
   },
   "outputs": [
    {
     "name": "stdout",
     "output_type": "stream",
     "text": [
      "The 95% confidence interval for the difference in mean response times between Baseline and Default Scaling for user class A is (6.962075604101352, 12.40579745021525)\n",
      "\n",
      "The 95% confidence interval for the difference in mean response times between Baseline and Default Scaling for user class B is (12.152109440173314, 13.340549956532316)\n",
      "\n",
      "The 95% confidence interval for the difference in mean response times between Baseline and Default Scaling for user class C is (11.531901981968616, 13.13597272935641)\n",
      "\n"
     ]
    }
   ],
   "source": [
    "get_CI_for_response_time_difference('Baseline', 'Default Scaling')"
   ]
  },
  {
   "cell_type": "code",
   "execution_count": 75,
   "metadata": {},
   "outputs": [
    {
     "name": "stdout",
     "output_type": "stream",
     "text": [
      "The 95% confidence interval for the difference in mean response times between Baseline and Low Threshold Scaling for user class A is (4.552905998665879, 13.609140924301798)\n",
      "\n",
      "The 95% confidence interval for the difference in mean response times between Baseline and Low Threshold Scaling for user class B is (10.513346787642316, 14.44576605556745)\n",
      "\n",
      "The 95% confidence interval for the difference in mean response times between Baseline and Low Threshold Scaling for user class C is (9.934600389210939, 13.793491837768038)\n",
      "\n"
     ]
    }
   ],
   "source": [
    "get_CI_for_response_time_difference('Baseline', 'Low Threshold Scaling')"
   ]
  },
  {
   "cell_type": "code",
   "execution_count": 76,
   "metadata": {},
   "outputs": [
    {
     "name": "stdout",
     "output_type": "stream",
     "text": [
      "The 95% confidence interval for the difference in mean response times between Baseline and Aggressive Scaling for user class A is (9.582963967524963, 10.791582616676914)\n",
      "\n",
      "The 95% confidence interval for the difference in mean response times between Baseline and Aggressive Scaling for user class B is (11.911802571596562, 14.834477939796377)\n",
      "\n",
      "The 95% confidence interval for the difference in mean response times between Baseline and Aggressive Scaling for user class C is (10.391347488125763, 15.465122091318602)\n",
      "\n"
     ]
    }
   ],
   "source": [
    "get_CI_for_response_time_difference('Baseline', 'Aggressive Scaling')"
   ]
  },
  {
   "cell_type": "code",
   "execution_count": 77,
   "metadata": {},
   "outputs": [
    {
     "name": "stdout",
     "output_type": "stream",
     "text": [
      "The 95% confidence interval for the difference in mean response times between Default Scaling and Low Threshold Scaling for user class A is (-2.7947106703988864, 1.588884539049959)\n",
      "\n",
      "The 95% confidence interval for the difference in mean response times between Default Scaling and Low Threshold Scaling for user class B is (-1.7462102516084725, 1.2126636981126089)\n",
      "\n",
      "The 95% confidence interval for the difference in mean response times between Default Scaling and Low Threshold Scaling for user class C is (-2.1702496780095224, 1.2304671936634757)\n",
      "\n"
     ]
    }
   ],
   "source": [
    "get_CI_for_response_time_difference('Default Scaling', 'Low Threshold Scaling')"
   ]
  },
  {
   "cell_type": "code",
   "execution_count": 78,
   "metadata": {},
   "outputs": [
    {
     "name": "stdout",
     "output_type": "stream",
     "text": [
      "The 95% confidence interval for the difference in mean response times between Default Scaling and Aggressive Scaling for user class A is (-1.7407456201039047, 2.74741914998918)\n",
      "\n",
      "The 95% confidence interval for the difference in mean response times between Default Scaling and Aggressive Scaling for user class B is (-1.2958232934021408, 2.549444408089449)\n",
      "\n",
      "The 95% confidence interval for the difference in mean response times between Default Scaling and Aggressive Scaling for user class C is (-1.3397344422788957, 2.5283293103982354)\n",
      "\n"
     ]
    }
   ],
   "source": [
    "get_CI_for_response_time_difference('Default Scaling', 'Aggressive Scaling')"
   ]
  },
  {
   "cell_type": "code",
   "execution_count": 79,
   "metadata": {},
   "outputs": [
    {
     "name": "stdout",
     "output_type": "stream",
     "text": [
      "The 95% confidence interval for the difference in mean response times between Low Threshold Scaling and Aggressive Scaling for user class A is (-2.836221385457816, 5.048721046692018)\n",
      "\n",
      "The 95% confidence interval for the difference in mean response times between Low Threshold Scaling and Aggressive Scaling for user class B is (-1.8322924110641097, 3.6194600792472817)\n",
      "\n",
      "The 95% confidence interval for the difference in mean response times between Low Threshold Scaling and Aggressive Scaling for user class C is (-2.290258882607489, 4.418636235072875)\n",
      "\n"
     ]
    }
   ],
   "source": [
    "get_CI_for_response_time_difference('Low Threshold Scaling', 'Aggressive Scaling')"
   ]
  },
  {
   "cell_type": "code",
   "execution_count": null,
   "metadata": {},
   "outputs": [],
   "source": []
  }
 ],
 "metadata": {
  "kernelspec": {
   "display_name": "Python 3",
   "language": "python",
   "name": "python3"
  },
  "language_info": {
   "codemirror_mode": {
    "name": "ipython",
    "version": 3
   },
   "file_extension": ".py",
   "mimetype": "text/x-python",
   "name": "python",
   "nbconvert_exporter": "python",
   "pygments_lexer": "ipython3",
   "version": "3.7.0"
  }
 },
 "nbformat": 4,
 "nbformat_minor": 2
}
