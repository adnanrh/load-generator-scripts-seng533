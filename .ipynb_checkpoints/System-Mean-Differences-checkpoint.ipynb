{
 "cells": [
  {
   "cell_type": "code",
   "execution_count": 42,
   "metadata": {},
   "outputs": [],
   "source": [
    "%matplotlib inline\n",
    "\n",
    "import glob\n",
    "import os\n",
    "\n",
    "import matplotlib\n",
    "import matplotlib.pyplot as plt\n",
    "import numpy as np\n",
    "import pandas as pd\n",
    "from scipy import stats"
   ]
  },
  {
   "cell_type": "code",
   "execution_count": 62,
   "metadata": {},
   "outputs": [],
   "source": [
    "TEST_CASES_PATH = \"results_remote_lb\"\n",
    "\n",
    "TEST_CASES_DICT = {\n",
    "    'Baseline': '2019_04_04_161815',\n",
    "    'Default Scaling': '2019_04_04_203319',\n",
    "    'Low Threshold Scaling': '2019_04_04_233925',\n",
    "    'Aggressive Scaling': '2019_04_05_145551'\n",
    "}\n",
    "\n",
    "FILE_TYPE_AWS_METRICS = 'aws_metrics_{0}_*.csv'\n",
    "FILE_TYPE_USER_RESPONSE = 'users{1}_response_{0}.csv'\n",
    "\n",
    "SAMPLE_PERIOD_SECONDS = 30\n",
    "\n",
    "def read_file(test_case_name, file_type, *args):\n",
    "    file_name = file_type.format(*args)\n",
    "    file_search_path = os.path.join(TEST_CASES_PATH, TEST_CASES_DICT[test_case_name], file_name)\n",
    "    file_paths = glob.glob(file_search_path)\n",
    "    \n",
    "    # Get test file with test params if not searching aws metrics\n",
    "    if file_type != FILE_TYPE_AWS_METRICS:\n",
    "        s_file_name = FILE_TYPE_AWS_METRICS.format(args[0])\n",
    "        s_file_search_path = os.path.join(TEST_CASES_PATH, TEST_CASES_DICT[test_case_name], s_file_name)\n",
    "        s_file_paths = glob.glob(s_file_search_path)\n",
    "        info_file = s_file_paths[0]\n",
    "    else:\n",
    "        info_file = file_paths[0]\n",
    "        \n",
    "    params_list = os.path.basename(info_file)[12:].split('_')\n",
    "    \n",
    "    params_dict = {\n",
    "        'start_time_seconds': int(params_list[1]),\n",
    "        'end_time_seconds': int(params_list[2])\n",
    "    }\n",
    "\n",
    "    return pd.read_csv(file_paths[0]), params_dict\n",
    "\n",
    "def get_user_responses_for_test_case(test_case_name, user='A'):\n",
    "    user_responses_list = []\n",
    "    for i in range(3):\n",
    "        df, params_dict = read_file(test_case_name, FILE_TYPE_USER_RESPONSE, i, user)\n",
    "        df.loc[:,'timepoint'] = (df.loc[:,'timeStamp'] / 1000) - params_dict['start_time_seconds']\n",
    "        user_responses_list.append(df)\n",
    "    return user_responses_list\n",
    "\n",
    "# using this method instead of np.std because np.std divides sum of squares by n (biased sample variance), not n-1\n",
    "def get_standard_deviation(mean, values):\n",
    "    n = len(values)\n",
    "    s = 0\n",
    "    for i in range(n):\n",
    "        s += (values[i] - mean) ** 2\n",
    "    \n",
    "    return np.sqrt(s / (n-1))\n",
    "\n",
    "def get_CI_for_response_time_difference_for_user(system_1, system_2, user):\n",
    "    n = 3\n",
    "    user_responses_list_system_1 = get_user_responses_for_test_case(system_1, user)\n",
    "    user_responses_list_system_2 = get_user_responses_for_test_case(system_2, user)\n",
    "    differences = []\n",
    "    \n",
    "    for i in range(n):\n",
    "        mean_system_1 = np.mean(user_responses_list_system_1[i]['elapsed']) / 1000\n",
    "        mean_system_2 = np.mean(user_responses_list_system_2[i]['elapsed']) / 1000\n",
    "        differences.append(mean_system_1 - mean_system_2)\n",
    "        \n",
    "    sample_mean = np.mean(differences)\n",
    "    sample_std = get_standard_deviation(sample_mean, differences)\n",
    "    # alpha = 0.05, we want t statistic at .975, 2\n",
    "    t = stats.t.ppf(.975, n-1)\n",
    "    interval_half_size = t * sample_std / np.sqrt(n)\n",
    "    confidence_interval = [sample_mean - interval_half_size, sample_mean + interval_half_size]\n",
    "    \n",
    "    print('''The 95% confidence interval for the difference in mean response times between {0} and {1} for user class {2} is ({3}, {4})'''.format(system_1, system_2, user, confidence_interval[0], confidence_interval[1]))\n",
    "    print()\n",
    "    \n",
    "def get_CI_for_response_time_difference(system_1, system_2):\n",
    "    get_CI_for_response_time_difference_for_user(system_1, system_2, 'A')\n",
    "    get_CI_for_response_time_difference_for_user(system_1, system_2, 'B')\n",
    "    get_CI_for_response_time_difference_for_user(system_1, system_2, 'C')"
   ]
  },
  {
   "cell_type": "code",
   "execution_count": 66,
   "metadata": {
    "scrolled": false
   },
   "outputs": [
    {
     "name": "stdout",
     "output_type": "stream",
     "text": [
      "The 95% confidence interval for the difference in mean response times between Baseline and Default Scaling for user class A is (6962.075604101354, 12405.797450215248)\n",
      "\n",
      "The 95% confidence interval for the difference in mean response times between Baseline and Default Scaling for user class B is (12152.10944017331, 13340.549956532319)\n",
      "\n",
      "The 95% confidence interval for the difference in mean response times between Baseline and Default Scaling for user class C is (11531.901981968613, 13135.972729356412)\n",
      "\n"
     ]
    }
   ],
   "source": [
    "get_CI_for_response_time_difference('Baseline', 'Default Scaling')"
   ]
  },
  {
   "cell_type": "code",
   "execution_count": 67,
   "metadata": {},
   "outputs": [
    {
     "name": "stdout",
     "output_type": "stream",
     "text": [
      "The 95% confidence interval for the difference in mean response times between Baseline and Low Threshold Scaling for user class A is (4552.905998665882, 13609.140924301792)\n",
      "\n",
      "The 95% confidence interval for the difference in mean response times between Baseline and Low Threshold Scaling for user class B is (10513.346787642318, 14445.766055567454)\n",
      "\n",
      "The 95% confidence interval for the difference in mean response times between Baseline and Low Threshold Scaling for user class C is (9934.600389210935, 13793.491837768042)\n",
      "\n"
     ]
    }
   ],
   "source": [
    "get_CI_for_response_time_difference('Baseline', 'Low Threshold Scaling')"
   ]
  },
  {
   "cell_type": "code",
   "execution_count": 68,
   "metadata": {},
   "outputs": [
    {
     "name": "stdout",
     "output_type": "stream",
     "text": [
      "The 95% confidence interval for the difference in mean response times between Baseline and Aggressive Scaling for user class A is (9582.963967524967, 10791.582616676911)\n",
      "\n",
      "The 95% confidence interval for the difference in mean response times between Baseline and Aggressive Scaling for user class B is (11911.802571596563, 14834.477939796376)\n",
      "\n",
      "The 95% confidence interval for the difference in mean response times between Baseline and Aggressive Scaling for user class C is (10391.347488125764, 15465.122091318604)\n",
      "\n"
     ]
    }
   ],
   "source": [
    "get_CI_for_response_time_difference('Baseline', 'Aggressive Scaling')"
   ]
  },
  {
   "cell_type": "code",
   "execution_count": 69,
   "metadata": {},
   "outputs": [
    {
     "name": "stdout",
     "output_type": "stream",
     "text": [
      "The 95% confidence interval for the difference in mean response times between Default Scaling and Low Threshold Scaling for user class A is (-2794.710670398886, 1588.8845390499587)\n",
      "\n",
      "The 95% confidence interval for the difference in mean response times between Default Scaling and Low Threshold Scaling for user class B is (-1746.2102516084726, 1212.6636981126092)\n",
      "\n",
      "The 95% confidence interval for the difference in mean response times between Default Scaling and Low Threshold Scaling for user class C is (-2170.249678009523, 1230.4671936634768)\n",
      "\n"
     ]
    }
   ],
   "source": [
    "get_CI_for_response_time_difference('Default Scaling', 'Low Threshold Scaling')"
   ]
  },
  {
   "cell_type": "code",
   "execution_count": 70,
   "metadata": {},
   "outputs": [
    {
     "name": "stdout",
     "output_type": "stream",
     "text": [
      "The 95% confidence interval for the difference in mean response times between Default Scaling and Aggressive Scaling for user class A is (-1740.7456201039074, 2747.4191499891813)\n",
      "\n",
      "The 95% confidence interval for the difference in mean response times between Default Scaling and Aggressive Scaling for user class B is (-1295.823293402142, 2549.4444080894505)\n",
      "\n",
      "The 95% confidence interval for the difference in mean response times between Default Scaling and Aggressive Scaling for user class C is (-1339.7344422788958, 2528.329310398236)\n",
      "\n"
     ]
    }
   ],
   "source": [
    "get_CI_for_response_time_difference('Default Scaling', 'Aggressive Scaling')"
   ]
  },
  {
   "cell_type": "code",
   "execution_count": 72,
   "metadata": {},
   "outputs": [
    {
     "name": "stdout",
     "output_type": "stream",
     "text": [
      "The 95% confidence interval for the difference in mean response times between Low Threshold Scaling and Aggressive Scaling for user class A is (-2836.2213854578167, 5048.721046692019)\n",
      "\n",
      "The 95% confidence interval for the difference in mean response times between Low Threshold Scaling and Aggressive Scaling for user class B is (-1832.2924110641088, 3619.46007924728)\n",
      "\n",
      "The 95% confidence interval for the difference in mean response times between Low Threshold Scaling and Aggressive Scaling for user class C is (-2290.2588826074907, 4418.636235072878)\n",
      "\n"
     ]
    }
   ],
   "source": [
    "get_CI_for_response_time_difference('Low Threshold Scaling', 'Aggressive Scaling')"
   ]
  },
  {
   "cell_type": "code",
   "execution_count": null,
   "metadata": {},
   "outputs": [],
   "source": []
  }
 ],
 "metadata": {
  "kernelspec": {
   "display_name": "Python 3",
   "language": "python",
   "name": "python3"
  },
  "language_info": {
   "codemirror_mode": {
    "name": "ipython",
    "version": 3
   },
   "file_extension": ".py",
   "mimetype": "text/x-python",
   "name": "python",
   "nbconvert_exporter": "python",
   "pygments_lexer": "ipython3",
   "version": "3.7.0"
  }
 },
 "nbformat": 4,
 "nbformat_minor": 2
}
